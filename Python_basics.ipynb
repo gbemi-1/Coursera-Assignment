{
  "cells": [
    {
      "cell_type": "markdown",
      "metadata": {
        "id": "view-in-github",
        "colab_type": "text"
      },
      "source": [
        "<a href=\"https://colab.research.google.com/github/gbemi-1/Coursera-Assignment/blob/main/Python_basics.ipynb\" target=\"_parent\"><img src=\"https://colab.research.google.com/assets/colab-badge.svg\" alt=\"Open In Colab\"/></a>"
      ]
    },
    {
      "cell_type": "code",
      "execution_count": null,
      "id": "3db5d375-9b9b-4a0a-8eea-b79522560011",
      "metadata": {
        "id": "3db5d375-9b9b-4a0a-8eea-b79522560011",
        "outputId": "09dbe14b-f287-45f8-f2b3-dd94e0b21464",
        "colab": {
          "base_uri": "https://localhost:8080/"
        }
      },
      "outputs": [
        {
          "output_type": "stream",
          "name": "stdout",
          "text": [
            "Y E\n",
            "Z\n",
            "K\n",
            "DIZZY \n",
            "DRAKE\n"
          ]
        }
      ],
      "source": [
        "POPSTAR = \"DIZZY DRAKE\"\n",
        "print(POPSTAR[4]+\" \"+POPSTAR[10]) #Practice Python Basics 1\n",
        "print(POPSTAR[3]) #Practice Python Basics 2\n",
        "print(POPSTAR[9]) #Practice Python Basics 3\n",
        "print(POPSTAR[0:6]) #Practice Python Basics 4\n",
        "print(POPSTAR[6:11]) #Practice Python Basics 5"
      ]
    },
    {
      "cell_type": "code",
      "execution_count": null,
      "id": "714b306f-0d36-4976-9da4-a8e5450877dd",
      "metadata": {
        "id": "714b306f-0d36-4976-9da4-a8e5450877dd",
        "outputId": "3c3b5d58-02c3-4dc5-cc81-07ccbfb83a49"
      },
      "outputs": [
        {
          "name": "stdout",
          "output_type": "stream",
          "text": [
            "Index of 'Y' is: -7\n",
            "Index of 'I' is: -10\n",
            "Result of POPSTAR[-4]: R\n",
            "Input that returns 'A' is: -3\n",
            "Input that returns 'RAKE': RAKE\n"
          ]
        }
      ],
      "source": [
        "POPSTAR = \"DIZZY DRAKE\"\n",
        "print(f\"Index of '{POPSTAR[-7]}' is: -7\")\n",
        "print(f\"Index of '{POPSTAR[-10]}' is: -10\")\n",
        "print(\"Result of POPSTAR[-4]:\",POPSTAR[-4])\n",
        "print(f\"Input that returns '{POPSTAR[-3]}' is: -3\")\n",
        "print(\"Input that returns 'RAKE': \",POPSTAR[-4:])"
      ]
    },
    {
      "cell_type": "code",
      "execution_count": null,
      "id": "4eecaa11-622f-4014-b7f4-372976a37c4a",
      "metadata": {
        "id": "4eecaa11-622f-4014-b7f4-372976a37c4a",
        "outputId": "855cfa07-7cad-432a-d459-03109ecbc58f"
      },
      "outputs": [
        {
          "name": "stdout",
          "output_type": "stream",
          "text": [
            "MMAMNAIY\n",
            "MMAMN\n",
            "MA\n",
            " NL\n",
            "A TT\n"
          ]
        }
      ],
      "source": [
        "SUCCESS = \"MAMBA MENTALITY\"\n",
        "print(SUCCESS[::2])\n",
        "print(SUCCESS[0:10:2])\n",
        "print(SUCCESS[2:5:2])\n",
        "print(SUCCESS[5:12:3])\n",
        "print(SUCCESS[1:15:4])"
      ]
    },
    {
      "cell_type": "code",
      "execution_count": null,
      "id": "2ce78148-1fd0-4a2c-b49a-558cc453ee13",
      "metadata": {
        "id": "2ce78148-1fd0-4a2c-b49a-558cc453ee13",
        "outputId": "f0e71fbf-add6-488d-8dee-a6ac28aae82e"
      },
      "outputs": [
        {
          "name": "stdout",
          "output_type": "stream",
          "text": [
            "HARRY POTTER IS A BESTSELLER\n",
            "HARRY POTTER IS A BESTSELLER AND J.K ROWLING IS A GENIUS\n"
          ]
        }
      ],
      "source": [
        "BOOK = \"HARRY POTTER\"\n",
        "COMMENT = \"IS A BESTSELLER\"\n",
        "print(BOOK+\" \"+COMMENT)\n",
        "print(BOOK+\" \"+COMMENT+\" AND J.K ROWLING IS A GENIUS\")"
      ]
    },
    {
      "cell_type": "code",
      "execution_count": null,
      "id": "badda9e8-1aed-4625-a948-2b5fc9572bbb",
      "metadata": {
        "id": "badda9e8-1aed-4625-a948-2b5fc9572bbb",
        "outputId": "802368d3-d165-4e09-89f6-bc67e87bc18b",
        "colab": {
          "base_uri": "https://localhost:8080/"
        }
      },
      "outputs": [
        {
          "output_type": "stream",
          "name": "stdout",
          "text": [
            "MIDDLE CHILDREN HAVE IT THE WORST\n",
            "Middle children have it the best\n"
          ]
        }
      ],
      "source": [
        "Siblings=\"Middle children have it the worst\"\n",
        "Siblings2= Siblings.upper()\n",
        "print(Siblings2)\n",
        "Siblings3=Siblings.replace('worst','best')\n",
        "print(Siblings3)"
      ]
    },
    {
      "cell_type": "code",
      "execution_count": null,
      "id": "4c97ca61-1ab6-47c7-b64c-b2d0683ce458",
      "metadata": {
        "id": "4c97ca61-1ab6-47c7-b64c-b2d0683ce458",
        "outputId": "04c00420-200e-43a5-8608-7c0e1054e3cd"
      },
      "outputs": [
        {
          "name": "stdout",
          "output_type": "stream",
          "text": [
            "3\n",
            "30\n",
            "-1\n"
          ]
        }
      ],
      "source": [
        "truth=\"We can do anything we set our minds to\"\n",
        "print(truth.find('can'))\n",
        "print(truth.find('minds'))\n",
        "print(truth.find('believe'))"
      ]
    },
    {
      "cell_type": "code",
      "execution_count": null,
      "id": "f944d982-0239-4f3e-84af-9b5082b8a8ab",
      "metadata": {
        "id": "f944d982-0239-4f3e-84af-9b5082b8a8ab",
        "outputId": "e6c336ad-9c78-4d8b-c12a-f1ab136fc2b4"
      },
      "outputs": [
        {
          "name": "stdout",
          "output_type": "stream",
          "text": [
            "JENNIFER LOPEZ\n",
            "IS AN AWESOME DANCER!\n",
            "colour ---> purple\n",
            "The backslash \\ is so cool\n"
          ]
        }
      ],
      "source": [
        "print(\"JENNIFER LOPEZ\\nIS AN AWESOME DANCER!\")\n",
        "print(\"colour ---> purple\")\n",
        "print(\"The backslash \\\\ is so cool\")"
      ]
    },
    {
      "cell_type": "code",
      "execution_count": null,
      "id": "ae83f1c6-1676-4c89-878d-f30bc88341b6",
      "metadata": {
        "id": "ae83f1c6-1676-4c89-878d-f30bc88341b6",
        "colab": {
          "base_uri": "https://localhost:8080/"
        },
        "outputId": "25d79631-c553-4fc6-a226-d5b9a5091f07"
      },
      "outputs": [
        {
          "output_type": "stream",
          "name": "stdout",
          "text": [
            "t\n",
            "o\n"
          ]
        }
      ],
      "source": [
        "name = \"tom\"\n",
        "print(name[0])\n",
        "print(name[1])"
      ]
    },
    {
      "cell_type": "code",
      "source": [
        "s = \"tom and \" + \"Jerry\"\n",
        "print (s)"
      ],
      "metadata": {
        "colab": {
          "base_uri": "https://localhost:8080/"
        },
        "id": "BZW0I4F1yZY_",
        "outputId": "17492e6e-80e1-408a-c2e8-153f240084ed"
      },
      "id": "BZW0I4F1yZY_",
      "execution_count": null,
      "outputs": [
        {
          "output_type": "stream",
          "name": "stdout",
          "text": [
            "tom and Jerry\n"
          ]
        }
      ]
    },
    {
      "cell_type": "code",
      "source": [
        "S = \" Spamming is bad \" * 3\n",
        "print ( s )\n"
      ],
      "metadata": {
        "colab": {
          "base_uri": "https://localhost:8080/"
        },
        "id": "DTndw8ddzCER",
        "outputId": "ee768ead-a304-42f5-c7c4-5058b8f8b33e"
      },
      "id": "DTndw8ddzCER",
      "execution_count": null,
      "outputs": [
        {
          "output_type": "stream",
          "name": "stdout",
          "text": [
            " Spamming is bad  Spamming is bad  Spamming is bad \n"
          ]
        }
      ]
    },
    {
      "cell_type": "code",
      "source": [
        ">>> s = \"Welcome\"\n",
        ">>> s[1:3]"
      ],
      "metadata": {
        "colab": {
          "base_uri": "https://localhost:8080/",
          "height": 35
        },
        "id": "x_j-GZ41zY7C",
        "outputId": "ea7dc246-f1d1-4701-83fe-7b7df1643cdd"
      },
      "id": "x_j-GZ41zY7C",
      "execution_count": null,
      "outputs": [
        {
          "output_type": "execute_result",
          "data": {
            "text/plain": [
              "'el'"
            ],
            "application/vnd.google.colaboratory.intrinsic+json": {
              "type": "string"
            }
          },
          "metadata": {},
          "execution_count": 12
        }
      ]
    },
    {
      "cell_type": "code",
      "source": [
        "a = \"Incomprehensibility\"\n",
        "a[0:8]\n",
        "a[1:5]\n",
        "a[2:6]\n",
        "a[-1:3]\n",
        "len ( a )\n",
        "max (a)\n",
        "min ( a )\n"
      ],
      "metadata": {
        "colab": {
          "base_uri": "https://localhost:8080/",
          "height": 35
        },
        "id": "r_zH4NCl8rD2",
        "outputId": "3c7fbf8b-36cc-44be-c012-bb371c43855b"
      },
      "id": "r_zH4NCl8rD2",
      "execution_count": null,
      "outputs": [
        {
          "output_type": "execute_result",
          "data": {
            "text/plain": [
              "'I'"
            ],
            "application/vnd.google.colaboratory.intrinsic+json": {
              "type": "string"
            }
          },
          "metadata": {},
          "execution_count": 25
        }
      ]
    },
    {
      "cell_type": "code",
      "source": [
        "s1 = \"Welcome\"\n",
        "\"come\" in s1\n",
        "\"come\" not in s1"
      ],
      "metadata": {
        "colab": {
          "base_uri": "https://localhost:8080/"
        },
        "id": "XL-xfHMqFLtV",
        "outputId": "237b0124-78e8-44e3-a863-7abb2a1b6af6"
      },
      "id": "XL-xfHMqFLtV",
      "execution_count": null,
      "outputs": [
        {
          "output_type": "execute_result",
          "data": {
            "text/plain": [
              "False"
            ]
          },
          "metadata": {},
          "execution_count": 27
        }
      ]
    },
    {
      "cell_type": "code",
      "source": [
        "#Write a Python code to return your Python version\n",
        "import sys\n",
        "print(sys.version)"
      ],
      "metadata": {
        "colab": {
          "base_uri": "https://localhost:8080/"
        },
        "id": "cj3BGfg5pMhA",
        "outputId": "a8f03aeb-fc5e-4c53-b320-2f9ad28f8e9b"
      },
      "id": "cj3BGfg5pMhA",
      "execution_count": null,
      "outputs": [
        {
          "output_type": "stream",
          "name": "stdout",
          "text": [
            "3.10.12 (main, Sep 11 2024, 15:47:36) [GCC 11.4.0]\n"
          ]
        }
      ]
    },
    {
      "cell_type": "code",
      "source": [
        "#Write a Python code to declare variable id=\"513\".\n",
        "#Print the following statement \"customer id =513\". [Don't use print(\"customer id\n",
        "variable_id=\"513\"\n",
        "print(\"customer id =513\")\n",
        "print(f\"customer id =513\")\n",
        "\n",
        "\n"
      ],
      "metadata": {
        "colab": {
          "base_uri": "https://localhost:8080/"
        },
        "id": "Hwt4BbbK012K",
        "outputId": "1b597e54-8450-4a73-8d21-d7593fe56573"
      },
      "id": "Hwt4BbbK012K",
      "execution_count": null,
      "outputs": [
        {
          "output_type": "stream",
          "name": "stdout",
          "text": [
            "customer id =513\n",
            "customer id =513\n"
          ]
        }
      ]
    },
    {
      "cell_type": "code",
      "source": [
        "\n",
        "#Run the following statement, why there is an error\n",
        "id=id+1\n",
        "# id is not defined, hence the type error"
      ],
      "metadata": {
        "colab": {
          "base_uri": "https://localhost:8080/",
          "height": 211
        },
        "id": "EgI5QRN729yu",
        "outputId": "fb423ab9-0a50-4fc6-eb4a-f313a8c07c38"
      },
      "id": "EgI5QRN729yu",
      "execution_count": null,
      "outputs": [
        {
          "output_type": "error",
          "ename": "TypeError",
          "evalue": "unsupported operand type(s) for +: 'builtin_function_or_method' and 'int'",
          "traceback": [
            "\u001b[0;31m---------------------------------------------------------------------------\u001b[0m",
            "\u001b[0;31mTypeError\u001b[0m                                 Traceback (most recent call last)",
            "\u001b[0;32m<ipython-input-6-a03369b575c4>\u001b[0m in \u001b[0;36m<cell line: 2>\u001b[0;34m()\u001b[0m\n\u001b[1;32m      1\u001b[0m \u001b[0;31m#Run the following statement, why there is an error\u001b[0m\u001b[0;34m\u001b[0m\u001b[0;34m\u001b[0m\u001b[0m\n\u001b[0;32m----> 2\u001b[0;31m \u001b[0mid\u001b[0m\u001b[0;34m=\u001b[0m\u001b[0mid\u001b[0m\u001b[0;34m+\u001b[0m\u001b[0;36m1\u001b[0m\u001b[0;34m\u001b[0m\u001b[0;34m\u001b[0m\u001b[0m\n\u001b[0m\u001b[1;32m      3\u001b[0m \u001b[0;34m\u001b[0m\u001b[0m\n\u001b[1;32m      4\u001b[0m \u001b[0;34m\u001b[0m\u001b[0m\n\u001b[1;32m      5\u001b[0m \u001b[0;34m\u001b[0m\u001b[0m\n",
            "\u001b[0;31mTypeError\u001b[0m: unsupported operand type(s) for +: 'builtin_function_or_method' and 'int'"
          ]
        }
      ]
    },
    {
      "cell_type": "code",
      "source": [
        "#Convert the variable id into an integer, increment it by 1.\n",
        "#Assign the result to variable new_id.\n",
        "#Print the new_id\n",
        "variable_id=\"513\"\n",
        "type(variable_id) #convert to integer\n",
        "int(variable_id)\n",
        "variable_id=(int(variable_id))\n",
        "variable_id+1\n",
        "variable_id= variable_id+1\n",
        "print(variable_id)\n",
        "\n",
        "\n",
        "\n",
        "\n",
        "\n"
      ],
      "metadata": {
        "colab": {
          "base_uri": "https://localhost:8080/"
        },
        "id": "JkkgxR5B8SVo",
        "outputId": "77c14a02-5aee-4138-9a47-9a9ed8dc6b58"
      },
      "id": "JkkgxR5B8SVo",
      "execution_count": null,
      "outputs": [
        {
          "output_type": "stream",
          "name": "stdout",
          "text": [
            "514\n"
          ]
        }
      ]
    },
    {
      "cell_type": "code",
      "source": [
        "# Write a Python code to print the following string in a specific format (see the\n",
        "#   Twinkle, twinkle, little star,\n",
        "#      How I wonder what you are!\n",
        "#          Up above the world so high,\n",
        "#                Like a diamond in the sky.\n",
        "print(\"Twinkle,twinkle,little star,\\n\\t How I wonder what you are!\\n\\t\\t Up above the world so high,\\n\\t\\t\\t Like a diamond in the sky.\")\n",
        "\n",
        "\n"
      ],
      "metadata": {
        "colab": {
          "base_uri": "https://localhost:8080/"
        },
        "id": "YLa_538_-Sly",
        "outputId": "746a2c8b-df05-459b-c0bd-cccf4c1aedfe"
      },
      "id": "YLa_538_-Sly",
      "execution_count": null,
      "outputs": [
        {
          "output_type": "stream",
          "name": "stdout",
          "text": [
            "Twinkle,twinkle,little star,\n",
            "\t How I wonder what you are!\n",
            "\t\t Up above the world so high,\n",
            "\t\t\t Like a diamond in the sky.\n"
          ]
        }
      ]
    },
    {
      "cell_type": "code",
      "source": [
        "\"DIZZY DRAKE\"\n",
        "POPSTAR= \"DIZZY DRAKE\"\n",
        "print(POPSTAR[4]+\" \"+POPSTAR[10])\n",
        "\n"
      ],
      "metadata": {
        "colab": {
          "base_uri": "https://localhost:8080/"
        },
        "id": "MW8TNf3gKVVo",
        "outputId": "3a7775fa-d5cd-40dd-cc79-0c581acc510d"
      },
      "id": "MW8TNf3gKVVo",
      "execution_count": null,
      "outputs": [
        {
          "output_type": "stream",
          "name": "stdout",
          "text": [
            "Y E\n"
          ]
        }
      ]
    },
    {
      "cell_type": "code",
      "source": [
        "a=5\n",
        "a==6"
      ],
      "metadata": {
        "colab": {
          "base_uri": "https://localhost:8080/"
        },
        "id": "vWt_pWyWNMTh",
        "outputId": "c21b6509-62bd-4bcd-d861-cd4487bc31b7"
      },
      "id": "vWt_pWyWNMTh",
      "execution_count": null,
      "outputs": [
        {
          "output_type": "execute_result",
          "data": {
            "text/plain": [
              "False"
            ]
          },
          "metadata": {},
          "execution_count": 1
        }
      ]
    },
    {
      "cell_type": "code",
      "source": [
        "i=2\n",
        "i>5"
      ],
      "metadata": {
        "colab": {
          "base_uri": "https://localhost:8080/"
        },
        "id": "HBeD2xN_xFLt",
        "outputId": "9c97b02a-6b4d-424d-c620-104cac1d44e4"
      },
      "id": "HBeD2xN_xFLt",
      "execution_count": null,
      "outputs": [
        {
          "output_type": "execute_result",
          "data": {
            "text/plain": [
              "False"
            ]
          },
          "metadata": {},
          "execution_count": 3
        }
      ]
    },
    {
      "cell_type": "code",
      "source": [
        "i=2\n",
        "i!=6\n"
      ],
      "metadata": {
        "colab": {
          "base_uri": "https://localhost:8080/"
        },
        "id": "ZpIMnIJ2xNh8",
        "outputId": "78f78ac6-f4b2-4c12-f094-35966faac2f6"
      },
      "id": "ZpIMnIJ2xNh8",
      "execution_count": null,
      "outputs": [
        {
          "output_type": "execute_result",
          "data": {
            "text/plain": [
              "True"
            ]
          },
          "metadata": {},
          "execution_count": 5
        }
      ]
    },
    {
      "cell_type": "code",
      "source": [
        "\"ACDC\" != \"Michael Jackson\""
      ],
      "metadata": {
        "colab": {
          "base_uri": "https://localhost:8080/"
        },
        "id": "NACErcz8z44F",
        "outputId": "e73aa87f-bd6a-49aa-a74d-875c3165ce57"
      },
      "id": "NACErcz8z44F",
      "execution_count": null,
      "outputs": [
        {
          "output_type": "execute_result",
          "data": {
            "text/plain": [
              "True"
            ]
          },
          "metadata": {},
          "execution_count": 7
        }
      ]
    },
    {
      "cell_type": "code",
      "source": [
        "# If statement example\n",
        "\n",
        "age = 19\n",
        "#age = 18\n",
        "\n",
        "\n",
        "if age > 18:\n",
        " print(\"you can enter\" )\n",
        "\n",
        "print(\"move on\")\n"
      ],
      "metadata": {
        "colab": {
          "base_uri": "https://localhost:8080/"
        },
        "id": "6YOVnyni1mEF",
        "outputId": "b32c0904-2d61-4a35-e7f7-c512292a924e"
      },
      "id": "6YOVnyni1mEF",
      "execution_count": null,
      "outputs": [
        {
          "output_type": "stream",
          "name": "stdout",
          "text": [
            "you can enter\n",
            "move on\n"
          ]
        }
      ]
    },
    {
      "cell_type": "code",
      "source": [
        "# Else statement example\n",
        "\n",
        "age = 18\n",
        "# age = 19\n",
        "\n",
        "if age > 18:\n",
        "    print(\"you can enter\" )\n",
        "else:\n",
        "    print(\"go see Meat Loaf\" )\n",
        "\n",
        "print(\"move on\")"
      ],
      "metadata": {
        "colab": {
          "base_uri": "https://localhost:8080/"
        },
        "id": "9kTkzqNI2Uxv",
        "outputId": "768984d5-3ddf-4bee-ffde-7d33f98ffbb2"
      },
      "id": "9kTkzqNI2Uxv",
      "execution_count": null,
      "outputs": [
        {
          "output_type": "stream",
          "name": "stdout",
          "text": [
            "go see Meat Loaf\n",
            "move on\n"
          ]
        }
      ]
    },
    {
      "cell_type": "code",
      "source": [
        "# Elif statment example\n",
        "\n",
        "age = 18\n",
        "\n",
        "if age > 18:\n",
        "    print(\"you can enter\" )\n",
        "elif age == 18:\n",
        "    print(\"go see Pink Floyd\")\n",
        "else:\n",
        "    print(\"go see Meat Loaf\" )\n",
        "\n",
        "print(\"move on\")"
      ],
      "metadata": {
        "colab": {
          "base_uri": "https://localhost:8080/"
        },
        "id": "uU2ug_sCBLqm",
        "outputId": "4a74e593-65e7-4ed8-c90a-13deed7f82fa"
      },
      "id": "uU2ug_sCBLqm",
      "execution_count": null,
      "outputs": [
        {
          "output_type": "stream",
          "name": "stdout",
          "text": [
            "go see Pink Floyd\n",
            "move on\n"
          ]
        }
      ]
    },
    {
      "cell_type": "code",
      "source": [
        "# Condition statement example\n",
        "\n",
        "album_year = 1983\n",
        "album_year = 1970\n",
        "\n",
        "if album_year < 1980:\n",
        "    print(\"Album year is greater than 1980\")\n",
        "\n",
        "print('do something..')"
      ],
      "metadata": {
        "colab": {
          "base_uri": "https://localhost:8080/"
        },
        "id": "B6iR7Pn5Bf4d",
        "outputId": "181511e9-5a35-4a82-eda5-1dca0490fe50"
      },
      "id": "B6iR7Pn5Bf4d",
      "execution_count": null,
      "outputs": [
        {
          "output_type": "stream",
          "name": "stdout",
          "text": [
            "Album year is greater than 1980\n",
            "do something..\n"
          ]
        }
      ]
    },
    {
      "cell_type": "code",
      "source": [
        "rating = 8.5\n",
        "if rating > 8:\n",
        "    print (\"This album is Amazing!\")"
      ],
      "metadata": {
        "colab": {
          "base_uri": "https://localhost:8080/"
        },
        "id": "sGSByx7_HtQR",
        "outputId": "6ec54dac-6169-46e4-f195-6df472dc3730"
      },
      "id": "sGSByx7_HtQR",
      "execution_count": null,
      "outputs": [
        {
          "output_type": "stream",
          "name": "stdout",
          "text": [
            "This album is Amazing!\n"
          ]
        }
      ]
    },
    {
      "cell_type": "code",
      "source": [
        "rating = 8.5\n",
        "if rating > 8:\n",
        "    print (\"this album is amazing\")\n",
        "else:\n",
        "    print (\"this album is ok\")"
      ],
      "metadata": {
        "colab": {
          "base_uri": "https://localhost:8080/"
        },
        "id": "SXwAXH-vHwH1",
        "outputId": "07b7b1d6-26d1-459d-d89a-54af6f1e4e26"
      },
      "id": "SXwAXH-vHwH1",
      "execution_count": null,
      "outputs": [
        {
          "output_type": "stream",
          "name": "stdout",
          "text": [
            "this album is amazing\n"
          ]
        }
      ]
    },
    {
      "cell_type": "markdown",
      "source": [],
      "metadata": {
        "id": "9iJXrIM5cCwe"
      },
      "id": "9iJXrIM5cCwe"
    },
    {
      "cell_type": "markdown",
      "source": [],
      "metadata": {
        "id": "nYEBoMu0cCYr"
      },
      "id": "nYEBoMu0cCYr"
    },
    {
      "cell_type": "code",
      "source": [
        "if album_year < 1980 or album_year == 1991 or album_year == 1993:\n",
        "    print(\"This album came out in year\", album_year)"
      ],
      "metadata": {
        "colab": {
          "base_uri": "https://localhost:8080/"
        },
        "id": "9iY8vmHUIlvy",
        "outputId": "5c42a959-0b06-4032-c052-4dc8ad99dcdf"
      },
      "id": "9iY8vmHUIlvy",
      "execution_count": null,
      "outputs": [
        {
          "output_type": "stream",
          "name": "stdout",
          "text": [
            "This album came out in year 1970\n"
          ]
        }
      ]
    },
    {
      "cell_type": "code",
      "source": [
        "1=2\n"
      ],
      "metadata": {
        "colab": {
          "base_uri": "https://localhost:8080/",
          "height": 106
        },
        "id": "5XMOjGBfKr9s",
        "outputId": "4d6a96f5-46ae-4303-a45a-74652760ebe7"
      },
      "id": "5XMOjGBfKr9s",
      "execution_count": null,
      "outputs": [
        {
          "output_type": "error",
          "ename": "SyntaxError",
          "evalue": "cannot assign to literal here. Maybe you meant '==' instead of '='? (<ipython-input-29-a0aef98f5518>, line 1)",
          "traceback": [
            "\u001b[0;36m  File \u001b[0;32m\"<ipython-input-29-a0aef98f5518>\"\u001b[0;36m, line \u001b[0;32m1\u001b[0m\n\u001b[0;31m    1=2\u001b[0m\n\u001b[0m    ^\u001b[0m\n\u001b[0;31mSyntaxError\u001b[0m\u001b[0;31m:\u001b[0m cannot assign to literal here. Maybe you meant '==' instead of '='?\n"
          ]
        }
      ]
    },
    {
      "cell_type": "code",
      "source": [
        "colors = [\"red\", \"orange\", \"yellow\", \"green\", \"blue\", \"indigo\", \"violet\"]\n",
        "for color in colors:\n",
        "    print(color)\n"
      ],
      "metadata": {
        "colab": {
          "base_uri": "https://localhost:8080/"
        },
        "id": "FnAsKS5rKrts",
        "outputId": "5597578b-f665-4a64-bf74-cb6be9c06ac3"
      },
      "id": "FnAsKS5rKrts",
      "execution_count": null,
      "outputs": [
        {
          "output_type": "stream",
          "name": "stdout",
          "text": [
            "red\n",
            "orange\n",
            "yellow\n",
            "green\n",
            "blue\n",
            "indigo\n",
            "violet\n"
          ]
        }
      ]
    },
    {
      "cell_type": "code",
      "source": [
        "musicians = [\"Michael Jackson\", \"eminem\", \"drake\", \"dr dre\", \"r kelly\"]\n",
        "for musician in musicians:\n",
        "             print(musician)"
      ],
      "metadata": {
        "colab": {
          "base_uri": "https://localhost:8080/"
        },
        "id": "F0AT7rD-SYPM",
        "outputId": "f1f4c9bd-49aa-421c-c85b-addedcd99c51"
      },
      "id": "F0AT7rD-SYPM",
      "execution_count": null,
      "outputs": [
        {
          "output_type": "stream",
          "name": "stdout",
          "text": [
            "Michael Jackson\n",
            "eminem\n",
            "drake\n",
            "dr dre\n",
            "r kelly\n"
          ]
        }
      ]
    },
    {
      "cell_type": "code",
      "source": [
        "SUCCESS = \"MAMBA MENTALITY\"\n",
        "#Assuming positive index numbers, what is the result of the input SUCCESS[::2] ?\n",
        "#What is the result of the input SUCCESS[0:10:2] ?\n",
        "#What is the result of the input SUCCESS[2:5:2] ?\n",
        "#What input returns the result “ NL” ? (*notice the space)\n",
        "#What input returns the result “A TT” ? (*notice the space)\n",
        "\n",
        "print(SUCCESS[::2])\n",
        "print(SUCCESS[2:5:2])\n",
        "print (SUCCESS[5:12:3])\n",
        "print(SUCCESS[1:14:4])"
      ],
      "metadata": {
        "colab": {
          "base_uri": "https://localhost:8080/"
        },
        "id": "8txhW1S0VMWY",
        "outputId": "af7f9d46-ccd3-40c8-cbec-a3273a77e330"
      },
      "id": "8txhW1S0VMWY",
      "execution_count": null,
      "outputs": [
        {
          "output_type": "stream",
          "name": "stdout",
          "text": [
            "MMAMNAIY\n",
            "MA\n",
            " NL\n",
            "A TT\n"
          ]
        }
      ]
    },
    {
      "cell_type": "code",
      "source": [
        "SUCCESS[0:10:2]"
      ],
      "metadata": {
        "colab": {
          "base_uri": "https://localhost:8080/",
          "height": 35
        },
        "id": "r-292pYjXHCW",
        "outputId": "6b58a6ae-3542-4a09-d2c8-9940c7356f94"
      },
      "id": "r-292pYjXHCW",
      "execution_count": null,
      "outputs": [
        {
          "output_type": "execute_result",
          "data": {
            "text/plain": [
              "'MMAMN'"
            ],
            "application/vnd.google.colaboratory.intrinsic+json": {
              "type": "string"
            }
          },
          "metadata": {},
          "execution_count": 40
        }
      ]
    },
    {
      "cell_type": "code",
      "source": [
        "#What inputs would you run to print each of the following?\n",
        "\n",
        "#JENNIFER LOPEZ\n",
        "#IS AN AWESOME DANCER!\n",
        "\n",
        "#colour ---> purple\n",
        "\n",
        "#The backslash \\ is so cool\n",
        "\n",
        "\"JENNIFER LOPEZ IS AN AWESOME DANCER!\"\n",
        "print(\"JENNIFER LOPEZ \\nIS AN AWESOME DANCER!\")"
      ],
      "metadata": {
        "colab": {
          "base_uri": "https://localhost:8080/"
        },
        "id": "d8uC6O6GXG1n",
        "outputId": "cb5db1a7-aaea-4354-ff01-2637a3397134"
      },
      "id": "d8uC6O6GXG1n",
      "execution_count": null,
      "outputs": [
        {
          "output_type": "stream",
          "name": "stdout",
          "text": [
            "JENNIFER LOPEZ \n",
            "IS AN AWESOME DANCER!\n"
          ]
        }
      ]
    },
    {
      "cell_type": "code",
      "source": [
        "fruits = [\"apple\", \"banana\", \"orange\"]\n",
        "for index, fruit in enumerate(fruits):\n",
        "    print(f\" At position {index}, I found a {fruit}\")"
      ],
      "metadata": {
        "id": "dT6aceAVXGlI",
        "colab": {
          "base_uri": "https://localhost:8080/"
        },
        "outputId": "9b91b4be-4544-4397-d250-d19381722e66"
      },
      "id": "dT6aceAVXGlI",
      "execution_count": null,
      "outputs": [
        {
          "output_type": "stream",
          "name": "stdout",
          "text": [
            " At position 0, I found a apple\n",
            " At position 1, I found a banana\n",
            " At position 2, I found a orange\n"
          ]
        }
      ]
    },
    {
      "cell_type": "code",
      "source": [
        "musicians = [\"Michael Jackson\", \"eminem\", \"drake\", \"dr dre\", \"r kelly\"]\n",
        "for index, musician in enumerate(musicians):\n",
        "    print(f\" At position {index}, I met a {musician}\")"
      ],
      "metadata": {
        "id": "su0R7sgVVMHs",
        "colab": {
          "base_uri": "https://localhost:8080/"
        },
        "outputId": "9630786c-842d-4d03-db3a-dea74c6d7c2b"
      },
      "id": "su0R7sgVVMHs",
      "execution_count": null,
      "outputs": [
        {
          "output_type": "stream",
          "name": "stdout",
          "text": [
            " At position 0, I met a Michael Jackson\n",
            " At position 1, I met a eminem\n",
            " At position 2, I met a drake\n",
            " At position 3, I met a dr dre\n",
            " At position 4, I met a r kelly\n"
          ]
        }
      ]
    },
    {
      "cell_type": "code",
      "source": [
        "count = 11\n",
        "while count <= 50:\n",
        "    print(count)\n",
        "    count += 2"
      ],
      "metadata": {
        "colab": {
          "base_uri": "https://localhost:8080/"
        },
        "id": "tXzxTUetQ34T",
        "outputId": "5de5ce5d-c71e-4504-bb5d-5b80ff30ba17"
      },
      "id": "tXzxTUetQ34T",
      "execution_count": null,
      "outputs": [
        {
          "output_type": "stream",
          "name": "stdout",
          "text": [
            "11\n",
            "13\n",
            "15\n",
            "17\n",
            "19\n",
            "21\n",
            "23\n",
            "25\n",
            "27\n",
            "29\n",
            "31\n",
            "33\n",
            "35\n",
            "37\n",
            "39\n",
            "41\n",
            "43\n",
            "45\n",
            "47\n",
            "49\n"
          ]
        }
      ]
    },
    {
      "cell_type": "code",
      "source": [
        "# For loop example\n",
        "\n",
        "dates = [1982,1980,1973]\n",
        "N = len(dates)\n",
        "\n",
        "for i in range(N):\n",
        "    print(dates[i])"
      ],
      "metadata": {
        "colab": {
          "base_uri": "https://localhost:8080/"
        },
        "id": "rekkHCBfXhkQ",
        "outputId": "ef012aaf-7cf4-4c8f-bdef-42ff25bd8c25"
      },
      "id": "rekkHCBfXhkQ",
      "execution_count": null,
      "outputs": [
        {
          "output_type": "stream",
          "name": "stdout",
          "text": [
            "1982\n",
            "1980\n",
            "1973\n"
          ]
        }
      ]
    },
    {
      "cell_type": "code",
      "source": [
        "# Exmaple of for loop, loop through list\n",
        "\n",
        "for year in dates:\n",
        "    print(year)"
      ],
      "metadata": {
        "colab": {
          "base_uri": "https://localhost:8080/"
        },
        "id": "J6gaj3F3YKMm",
        "outputId": "4586f526-69a6-4f6b-e160-436f2ffd3084"
      },
      "id": "J6gaj3F3YKMm",
      "execution_count": null,
      "outputs": [
        {
          "output_type": "stream",
          "name": "stdout",
          "text": [
            "1982\n",
            "1980\n",
            "1973\n"
          ]
        }
      ]
    },
    {
      "cell_type": "code",
      "source": [
        "squares = ['red', 'yellow', 'green', 'purple', 'blue']\n",
        "\n",
        "for i in range(0, 5):\n",
        "    print(\"Before square \", i, 'is',  squares[i])\n",
        "    squares[i] = 'white'\n",
        "    print(\"After square \", i, 'is',  squares[i])"
      ],
      "metadata": {
        "colab": {
          "base_uri": "https://localhost:8080/"
        },
        "id": "lMpedXy4YZHE",
        "outputId": "be444846-0114-4582-fd4a-5e3cc7a7eb1c"
      },
      "id": "lMpedXy4YZHE",
      "execution_count": null,
      "outputs": [
        {
          "output_type": "stream",
          "name": "stdout",
          "text": [
            "Before square  0 is red\n",
            "After square  0 is white\n",
            "Before square  1 is yellow\n",
            "After square  1 is white\n",
            "Before square  2 is green\n",
            "After square  2 is white\n",
            "Before square  3 is purple\n",
            "After square  3 is white\n",
            "Before square  4 is blue\n",
            "After square  4 is white\n"
          ]
        }
      ]
    },
    {
      "cell_type": "code",
      "source": [
        "# Loop through the list and iterate on both index and element value\n",
        "\n",
        "squares=['red', 'yellow', 'green', 'purple', 'blue']\n",
        "\n",
        "for i, square in enumerate(squares):\n",
        "    print(i, square)"
      ],
      "metadata": {
        "colab": {
          "base_uri": "https://localhost:8080/"
        },
        "id": "Sx2b4PysaKG7",
        "outputId": "bb8efcc7-88ca-4504-b445-cb7cfcdb9b5a"
      },
      "id": "Sx2b4PysaKG7",
      "execution_count": null,
      "outputs": [
        {
          "output_type": "stream",
          "name": "stdout",
          "text": [
            "0 red\n",
            "1 yellow\n",
            "2 green\n",
            "3 purple\n",
            "4 blue\n"
          ]
        }
      ]
    },
    {
      "cell_type": "code",
      "source": [
        "# While Loop Example\n",
        "\n",
        "dates = [1982, 1980, 1973, 2000]\n",
        "\n",
        "i = 0\n",
        "year = dates[0]\n",
        "\n",
        "while(year != 1973):\n",
        "    print(year)\n",
        "    i = i + 1\n",
        "    year = dates[i]\n",
        "\n",
        "\n",
        "print(\"It took \", i ,\"repetitions to get out of loop.\")"
      ],
      "metadata": {
        "colab": {
          "base_uri": "https://localhost:8080/"
        },
        "id": "p93IWvW5asvn",
        "outputId": "d29a2b9a-1fcb-48af-96a7-d50611c3ab06"
      },
      "id": "p93IWvW5asvn",
      "execution_count": null,
      "outputs": [
        {
          "output_type": "stream",
          "name": "stdout",
          "text": [
            "1982\n",
            "1980\n",
            "It took  2 repetitions to get out of loop.\n"
          ]
        }
      ]
    },
    {
      "cell_type": "code",
      "source": [
        "Genres=[ 'rock', 'R&B', 'Soundtrack', 'R&B', 'soul', 'pop']\n",
        "for Genre in Genres:\n",
        "   print(Genre)"
      ],
      "metadata": {
        "colab": {
          "base_uri": "https://localhost:8080/"
        },
        "id": "9D5sS73pfuXx",
        "outputId": "2277d4fb-3935-4dbd-ebd9-1e3bd1d4b5b7"
      },
      "id": "9D5sS73pfuXx",
      "execution_count": null,
      "outputs": [
        {
          "output_type": "stream",
          "name": "stdout",
          "text": [
            "rock\n",
            "R&B\n",
            "Soundtrack\n",
            "R&B\n",
            "soul\n",
            "pop\n"
          ]
        }
      ]
    },
    {
      "cell_type": "code",
      "source": [
        "squares=['red', 'yellow', 'green', 'purple', 'blue']\n",
        "for square  in squares:\n",
        "   print(square)"
      ],
      "metadata": {
        "colab": {
          "base_uri": "https://localhost:8080/"
        },
        "id": "SbWWEGL6grsf",
        "outputId": "a9a47178-4f65-4e29-e57a-070ea2b2e8a8"
      },
      "id": "SbWWEGL6grsf",
      "execution_count": null,
      "outputs": [
        {
          "output_type": "stream",
          "name": "stdout",
          "text": [
            "red\n",
            "yellow\n",
            "green\n",
            "purple\n",
            "blue\n"
          ]
        }
      ]
    },
    {
      "cell_type": "code",
      "source": [
        "PlayListRatings = [10, 9.5, 10, 8, 7.5, 5, 10, 10]\n",
        "i = 0\n",
        "rating = PlayListRatings[0]\n",
        "while(i < len(PlayListRatings) and rating >= 6):\n",
        "    print(rating)\n",
        "    i = i + 1\n",
        "    rating = PlayListRatings[i]\n"
      ],
      "metadata": {
        "colab": {
          "base_uri": "https://localhost:8080/"
        },
        "id": "3pkJPKV6hh-z",
        "outputId": "bd5bfc58-702d-42f3-c77b-e0ed87e6ff4a"
      },
      "id": "3pkJPKV6hh-z",
      "execution_count": null,
      "outputs": [
        {
          "output_type": "stream",
          "name": "stdout",
          "text": [
            "10\n",
            "9.5\n",
            "10\n",
            "8\n",
            "7.5\n"
          ]
        }
      ]
    },
    {
      "cell_type": "code",
      "source": [
        "squares = ['orange', 'orange', 'purple', 'blue ', 'orange']\n",
        "new_squares = []\n",
        "i = 0\n",
        "while(i < len(squares) and squares[i] == 'orange'):\n",
        "    new_squares.append(squares[i])\n",
        "    i = i + 1\n",
        "print (new_squares)"
      ],
      "metadata": {
        "colab": {
          "base_uri": "https://localhost:8080/"
        },
        "id": "D1k9AN_pk_1F",
        "outputId": "bbb51e5a-1f72-42e4-ee0a-ca9b71f00fbf"
      },
      "id": "D1k9AN_pk_1F",
      "execution_count": null,
      "outputs": [
        {
          "output_type": "stream",
          "name": "stdout",
          "text": [
            "['orange', 'orange']\n"
          ]
        }
      ]
    },
    {
      "cell_type": "code",
      "source": [
        "#Your little brother has just learned multiplication tables in school.\n",
        "#Today he has learned tables of 6 and 7.\n",
        "#Help him memorise both the tables by printing them using for loop.\n",
        "print(\"Multiplication table of 6:\")\n",
        "for i in range (13):\n",
        "    print(\"6*\",i,\"=\",6*i)\n",
        "print(\"Multiplication table of 7:\")\n",
        "for i in range (13):\n",
        "    print(\"7*\",i,\"=\",7*i)"
      ],
      "metadata": {
        "colab": {
          "base_uri": "https://localhost:8080/"
        },
        "id": "RcvJepTDnyGG",
        "outputId": "6fc2f60a-6e4c-44a8-9c37-03e8fe1723f3"
      },
      "id": "RcvJepTDnyGG",
      "execution_count": null,
      "outputs": [
        {
          "output_type": "stream",
          "name": "stdout",
          "text": [
            "Multiplication table of 6:\n",
            "6* 0 = 0\n",
            "6* 1 = 6\n",
            "6* 2 = 12\n",
            "6* 3 = 18\n",
            "6* 4 = 24\n",
            "6* 5 = 30\n",
            "6* 6 = 36\n",
            "6* 7 = 42\n",
            "6* 8 = 48\n",
            "6* 9 = 54\n",
            "6* 10 = 60\n",
            "6* 11 = 66\n",
            "6* 12 = 72\n",
            "Multiplication table of 7:\n",
            "7* 0 = 0\n",
            "7* 1 = 7\n",
            "7* 2 = 14\n",
            "7* 3 = 21\n",
            "7* 4 = 28\n",
            "7* 5 = 35\n",
            "7* 6 = 42\n",
            "7* 7 = 49\n",
            "7* 8 = 56\n",
            "7* 9 = 63\n",
            "7* 10 = 70\n",
            "7* 11 = 77\n",
            "7* 12 = 84\n"
          ]
        }
      ]
    },
    {
      "cell_type": "code",
      "source": [
        "\n",
        "\n",
        "Animals = [\"lion\", \"giraffe\", \"gorilla\", \"parrots\", \"crocodile\",\"deer\", \"swan\"]\n",
        "New = []\n",
        "i=0\n",
        "while i<len(Animals):\n",
        "    j=Animals[i]\n",
        "    if(len(j)==7):\n",
        "        New.append(j)\n",
        "    i=i+1\n",
        "print(New)"
      ],
      "metadata": {
        "colab": {
          "base_uri": "https://localhost:8080/"
        },
        "id": "t4lEomeroSqa",
        "outputId": "1d00273c-f289-485e-c08e-5ad536294aa3"
      },
      "id": "t4lEomeroSqa",
      "execution_count": null,
      "outputs": [
        {
          "output_type": "stream",
          "name": "stdout",
          "text": [
            "['giraffe', 'gorilla', 'parrots']\n"
          ]
        }
      ]
    },
    {
      "cell_type": "code",
      "source": [
        "def print_function(A):\n",
        "    for a in A:\n",
        "        print(a + '1')\n",
        "print_function(['a', 'b', 'c'])"
      ],
      "metadata": {
        "colab": {
          "base_uri": "https://localhost:8080/"
        },
        "id": "du--9vq9oShx",
        "outputId": "97b8cde0-df20-4ad7-8476-46a64628e631"
      },
      "id": "du--9vq9oShx",
      "execution_count": null,
      "outputs": [
        {
          "output_type": "stream",
          "name": "stdout",
          "text": [
            "a1\n",
            "b1\n",
            "c1\n"
          ]
        }
      ]
    },
    {
      "cell_type": "code",
      "source": [
        "a = 1\n",
        "try:\n",
        "    b = int(input(\"Please enter a number to divide a: \"))\n",
        "    a = a / b\n",
        "    print(\"Success a =\", a)\n",
        "except:\n",
        "    print(\"There was an error\")\n"
      ],
      "metadata": {
        "colab": {
          "base_uri": "https://localhost:8080/"
        },
        "id": "hrrcXz56oSa4",
        "outputId": "17b9beae-a488-4889-8e29-15f0e60c67c2"
      },
      "id": "hrrcXz56oSa4",
      "execution_count": null,
      "outputs": [
        {
          "output_type": "stream",
          "name": "stdout",
          "text": [
            "There was an error\n"
          ]
        }
      ]
    },
    {
      "cell_type": "code",
      "source": [
        " # Create a new file Example2.txt for writing\n",
        "with open('Example2.txt', 'w') as file1:\n",
        "    file1.write(\"This is line A\\n\")\n",
        "    file1.write(\"This is line B\\n\")\n",
        "    # file1 is automatically closed when the 'with' block exits"
      ],
      "metadata": {
        "id": "-uaPBKKyVwwt"
      },
      "id": "-uaPBKKyVwwt",
      "execution_count": null,
      "outputs": []
    },
    {
      "cell_type": "code",
      "source": [
        "import numpy as np\n",
        "# create a list\n",
        "a = [[11, 12, 13], [21, 22, 23], [31, 32, 33]]\n",
        "a\n",
        "# Convert list to Numpy Array\n",
        "# Every element is the same type\n",
        "A = np.array (a)\n",
        "A. ndim\n",
        "# Show the numpy array shape\n",
        "\n",
        "A.shape\n",
        "# Show the numpy array size\n",
        "\n",
        "A.size\n",
        "# Access the element on the second row and third column\n",
        "A[1, 2]\n",
        "# Access the element on the second row and third column\n",
        "\n",
        "A[1][2]\n",
        "# Access the element on the first and second rows and third column\n",
        "\n",
        "A[0:2, 2]\n",
        "# Create a numpy array X\n",
        "\n",
        "X = np.array([[1, 0], [0, 1]])\n",
        "X\n",
        "# Create a numpy array Y\n",
        "\n",
        "Y = np.array([[2, 1], [1, 2]])\n",
        "Y"
      ],
      "metadata": {
        "id": "AnHg3hQMXGI8",
        "colab": {
          "base_uri": "https://localhost:8080/"
        },
        "outputId": "e251a273-8ff9-4971-cd8a-78b1d4fd5896"
      },
      "id": "AnHg3hQMXGI8",
      "execution_count": null,
      "outputs": [
        {
          "output_type": "execute_result",
          "data": {
            "text/plain": [
              "array([[2, 1],\n",
              "       [1, 2]])"
            ]
          },
          "metadata": {},
          "execution_count": 25
        }
      ]
    },
    {
      "cell_type": "code",
      "source": [
        "# Create a numpy array X\n",
        "\n",
        "X = np.array([[1, 0], [0, 1]])\n",
        "Print(X)\n",
        "# Create a numpy array Y\n",
        "\n",
        "Y = np.array([[2, 1], [1, 2]])\n",
        "Print(Y)"
      ],
      "metadata": {
        "colab": {
          "base_uri": "https://localhost:8080/",
          "height": 211
        },
        "id": "8AH9CyHtcwFW",
        "outputId": "6330388f-5a0f-4743-c0a2-54dface3f665"
      },
      "id": "8AH9CyHtcwFW",
      "execution_count": null,
      "outputs": [
        {
          "output_type": "error",
          "ename": "NameError",
          "evalue": "name 'Print' is not defined",
          "traceback": [
            "\u001b[0;31m---------------------------------------------------------------------------\u001b[0m",
            "\u001b[0;31mNameError\u001b[0m                                 Traceback (most recent call last)",
            "\u001b[0;32m<ipython-input-30-6ebbb585230e>\u001b[0m in \u001b[0;36m<cell line: 4>\u001b[0;34m()\u001b[0m\n\u001b[1;32m      2\u001b[0m \u001b[0;34m\u001b[0m\u001b[0m\n\u001b[1;32m      3\u001b[0m \u001b[0mX\u001b[0m \u001b[0;34m=\u001b[0m \u001b[0mnp\u001b[0m\u001b[0;34m.\u001b[0m\u001b[0marray\u001b[0m\u001b[0;34m(\u001b[0m\u001b[0;34m[\u001b[0m\u001b[0;34m[\u001b[0m\u001b[0;36m1\u001b[0m\u001b[0;34m,\u001b[0m \u001b[0;36m0\u001b[0m\u001b[0;34m]\u001b[0m\u001b[0;34m,\u001b[0m \u001b[0;34m[\u001b[0m\u001b[0;36m0\u001b[0m\u001b[0;34m,\u001b[0m \u001b[0;36m1\u001b[0m\u001b[0;34m]\u001b[0m\u001b[0;34m]\u001b[0m\u001b[0;34m)\u001b[0m\u001b[0;34m\u001b[0m\u001b[0;34m\u001b[0m\u001b[0m\n\u001b[0;32m----> 4\u001b[0;31m \u001b[0mPrint\u001b[0m\u001b[0;34m(\u001b[0m\u001b[0mX\u001b[0m\u001b[0;34m)\u001b[0m\u001b[0;34m\u001b[0m\u001b[0;34m\u001b[0m\u001b[0m\n\u001b[0m\u001b[1;32m      5\u001b[0m \u001b[0;31m# Create a numpy array Y\u001b[0m\u001b[0;34m\u001b[0m\u001b[0;34m\u001b[0m\u001b[0m\n\u001b[1;32m      6\u001b[0m \u001b[0;34m\u001b[0m\u001b[0m\n",
            "\u001b[0;31mNameError\u001b[0m: name 'Print' is not defined"
          ]
        }
      ]
    },
    {
      "cell_type": "code",
      "source": [
        "a = np.array([-1,1])\n",
        "\n",
        "b=np.array([1,1])\n",
        "\n",
        "np.dot(a,b)"
      ],
      "metadata": {
        "colab": {
          "base_uri": "https://localhost:8080/",
          "height": 211
        },
        "id": "kagcv1oWWKv1",
        "outputId": "40a539ad-8829-453b-bb52-fdcdab7b1c14"
      },
      "id": "kagcv1oWWKv1",
      "execution_count": null,
      "outputs": [
        {
          "output_type": "error",
          "ename": "NameError",
          "evalue": "name 'np' is not defined",
          "traceback": [
            "\u001b[0;31m---------------------------------------------------------------------------\u001b[0m",
            "\u001b[0;31mNameError\u001b[0m                                 Traceback (most recent call last)",
            "\u001b[0;32m<ipython-input-2-af117cc61d9a>\u001b[0m in \u001b[0;36m<cell line: 1>\u001b[0;34m()\u001b[0m\n\u001b[0;32m----> 1\u001b[0;31m \u001b[0ma\u001b[0m \u001b[0;34m=\u001b[0m \u001b[0mnp\u001b[0m\u001b[0;34m.\u001b[0m\u001b[0marray\u001b[0m\u001b[0;34m(\u001b[0m\u001b[0;34m[\u001b[0m\u001b[0;34m-\u001b[0m\u001b[0;36m1\u001b[0m\u001b[0;34m,\u001b[0m\u001b[0;36m1\u001b[0m\u001b[0;34m]\u001b[0m\u001b[0;34m)\u001b[0m\u001b[0;34m\u001b[0m\u001b[0;34m\u001b[0m\u001b[0m\n\u001b[0m\u001b[1;32m      2\u001b[0m \u001b[0;34m\u001b[0m\u001b[0m\n\u001b[1;32m      3\u001b[0m \u001b[0mb\u001b[0m\u001b[0;34m=\u001b[0m\u001b[0mnp\u001b[0m\u001b[0;34m.\u001b[0m\u001b[0marray\u001b[0m\u001b[0;34m(\u001b[0m\u001b[0;34m[\u001b[0m\u001b[0;36m1\u001b[0m\u001b[0;34m,\u001b[0m\u001b[0;36m1\u001b[0m\u001b[0;34m]\u001b[0m\u001b[0;34m)\u001b[0m\u001b[0;34m\u001b[0m\u001b[0;34m\u001b[0m\u001b[0m\n\u001b[1;32m      4\u001b[0m \u001b[0;34m\u001b[0m\u001b[0m\n\u001b[1;32m      5\u001b[0m \u001b[0mnp\u001b[0m\u001b[0;34m.\u001b[0m\u001b[0mdot\u001b[0m\u001b[0;34m(\u001b[0m\u001b[0ma\u001b[0m\u001b[0;34m,\u001b[0m\u001b[0mb\u001b[0m\u001b[0;34m)\u001b[0m\u001b[0;34m\u001b[0m\u001b[0;34m\u001b[0m\u001b[0m\n",
            "\u001b[0;31mNameError\u001b[0m: name 'np' is not defined"
          ]
        }
      ]
    },
    {
      "cell_type": "code",
      "source": [
        "X=np.array([[1,0,1],[2,2,2]])\n",
        "\n",
        "out=X[0:2,2]"
      ],
      "metadata": {
        "colab": {
          "base_uri": "https://localhost:8080/",
          "height": 176
        },
        "id": "2astph3IXOBK",
        "outputId": "75e19ca4-747f-4d8c-caa8-d458f41eb20c"
      },
      "id": "2astph3IXOBK",
      "execution_count": null,
      "outputs": [
        {
          "output_type": "error",
          "ename": "NameError",
          "evalue": "name 'np' is not defined",
          "traceback": [
            "\u001b[0;31m---------------------------------------------------------------------------\u001b[0m",
            "\u001b[0;31mNameError\u001b[0m                                 Traceback (most recent call last)",
            "\u001b[0;32m<ipython-input-3-ab213aa0db3e>\u001b[0m in \u001b[0;36m<cell line: 1>\u001b[0;34m()\u001b[0m\n\u001b[0;32m----> 1\u001b[0;31m \u001b[0mX\u001b[0m\u001b[0;34m=\u001b[0m\u001b[0mnp\u001b[0m\u001b[0;34m.\u001b[0m\u001b[0marray\u001b[0m\u001b[0;34m(\u001b[0m\u001b[0;34m[\u001b[0m\u001b[0;34m[\u001b[0m\u001b[0;36m1\u001b[0m\u001b[0;34m,\u001b[0m\u001b[0;36m0\u001b[0m\u001b[0;34m,\u001b[0m\u001b[0;36m1\u001b[0m\u001b[0;34m]\u001b[0m\u001b[0;34m,\u001b[0m\u001b[0;34m[\u001b[0m\u001b[0;36m2\u001b[0m\u001b[0;34m,\u001b[0m\u001b[0;36m2\u001b[0m\u001b[0;34m,\u001b[0m\u001b[0;36m2\u001b[0m\u001b[0;34m]\u001b[0m\u001b[0;34m]\u001b[0m\u001b[0;34m)\u001b[0m\u001b[0;34m\u001b[0m\u001b[0;34m\u001b[0m\u001b[0m\n\u001b[0m\u001b[1;32m      2\u001b[0m \u001b[0;34m\u001b[0m\u001b[0m\n\u001b[1;32m      3\u001b[0m \u001b[0mout\u001b[0m\u001b[0;34m=\u001b[0m\u001b[0mX\u001b[0m\u001b[0;34m[\u001b[0m\u001b[0;36m0\u001b[0m\u001b[0;34m:\u001b[0m\u001b[0;36m2\u001b[0m\u001b[0;34m,\u001b[0m\u001b[0;36m2\u001b[0m\u001b[0;34m]\u001b[0m\u001b[0;34m\u001b[0m\u001b[0;34m\u001b[0m\u001b[0m\n",
            "\u001b[0;31mNameError\u001b[0m: name 'np' is not defined"
          ]
        }
      ]
    },
    {
      "cell_type": "code",
      "source": [
        "X=np.array([[1,0],[0,1]])\n",
        "\n",
        "Y=np.array([[2,1],[1,2]])\n",
        "\n",
        "Z=np.dot(X,Y)"
      ],
      "metadata": {
        "colab": {
          "base_uri": "https://localhost:8080/",
          "height": 211
        },
        "id": "IFIKzyOvXpAB",
        "outputId": "05103115-4909-4b10-95bd-ad2557e8e21a"
      },
      "id": "IFIKzyOvXpAB",
      "execution_count": null,
      "outputs": [
        {
          "output_type": "error",
          "ename": "NameError",
          "evalue": "name 'np' is not defined",
          "traceback": [
            "\u001b[0;31m---------------------------------------------------------------------------\u001b[0m",
            "\u001b[0;31mNameError\u001b[0m                                 Traceback (most recent call last)",
            "\u001b[0;32m<ipython-input-4-dd75624f1710>\u001b[0m in \u001b[0;36m<cell line: 1>\u001b[0;34m()\u001b[0m\n\u001b[0;32m----> 1\u001b[0;31m \u001b[0mX\u001b[0m\u001b[0;34m=\u001b[0m\u001b[0mnp\u001b[0m\u001b[0;34m.\u001b[0m\u001b[0marray\u001b[0m\u001b[0;34m(\u001b[0m\u001b[0;34m[\u001b[0m\u001b[0;34m[\u001b[0m\u001b[0;36m1\u001b[0m\u001b[0;34m,\u001b[0m\u001b[0;36m0\u001b[0m\u001b[0;34m]\u001b[0m\u001b[0;34m,\u001b[0m\u001b[0;34m[\u001b[0m\u001b[0;36m0\u001b[0m\u001b[0;34m,\u001b[0m\u001b[0;36m1\u001b[0m\u001b[0;34m]\u001b[0m\u001b[0;34m]\u001b[0m\u001b[0;34m)\u001b[0m\u001b[0;34m\u001b[0m\u001b[0;34m\u001b[0m\u001b[0m\n\u001b[0m\u001b[1;32m      2\u001b[0m \u001b[0;34m\u001b[0m\u001b[0m\n\u001b[1;32m      3\u001b[0m \u001b[0mY\u001b[0m\u001b[0;34m=\u001b[0m\u001b[0mnp\u001b[0m\u001b[0;34m.\u001b[0m\u001b[0marray\u001b[0m\u001b[0;34m(\u001b[0m\u001b[0;34m[\u001b[0m\u001b[0;34m[\u001b[0m\u001b[0;36m2\u001b[0m\u001b[0;34m,\u001b[0m\u001b[0;36m1\u001b[0m\u001b[0;34m]\u001b[0m\u001b[0;34m,\u001b[0m\u001b[0;34m[\u001b[0m\u001b[0;36m1\u001b[0m\u001b[0;34m,\u001b[0m\u001b[0;36m2\u001b[0m\u001b[0;34m]\u001b[0m\u001b[0;34m]\u001b[0m\u001b[0;34m)\u001b[0m\u001b[0;34m\u001b[0m\u001b[0;34m\u001b[0m\u001b[0m\n\u001b[1;32m      4\u001b[0m \u001b[0;34m\u001b[0m\u001b[0m\n\u001b[1;32m      5\u001b[0m \u001b[0mZ\u001b[0m\u001b[0;34m=\u001b[0m\u001b[0mnp\u001b[0m\u001b[0;34m.\u001b[0m\u001b[0mdot\u001b[0m\u001b[0;34m(\u001b[0m\u001b[0mX\u001b[0m\u001b[0;34m,\u001b[0m\u001b[0mY\u001b[0m\u001b[0;34m)\u001b[0m\u001b[0;34m\u001b[0m\u001b[0;34m\u001b[0m\u001b[0m\n",
            "\u001b[0;31mNameError\u001b[0m: name 'np' is not defined"
          ]
        }
      ]
    }
  ],
  "metadata": {
    "kernelspec": {
      "display_name": "Python 3 (ipykernel)",
      "language": "python",
      "name": "python3"
    },
    "language_info": {
      "codemirror_mode": {
        "name": "ipython",
        "version": 3
      },
      "file_extension": ".py",
      "mimetype": "text/x-python",
      "name": "python",
      "nbconvert_exporter": "python",
      "pygments_lexer": "ipython3",
      "version": "3.12.7"
    },
    "colab": {
      "provenance": [],
      "include_colab_link": true
    }
  },
  "nbformat": 4,
  "nbformat_minor": 5
}